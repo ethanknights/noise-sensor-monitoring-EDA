{
 "cells": [
  {
   "cell_type": "markdown",
   "metadata": {},
   "source": [
    "# Purpose: Identify building site with high-frequency complaints "
   ]
  },
  {
   "cell_type": "code",
   "execution_count": null,
   "metadata": {},
   "outputs": [],
   "source": [
    "# Imports\n",
    "import os\n",
    "import pandas as pd\n",
    "import warnings\n",
    "import importlib\n",
    "import noise_functions\n",
    "import noise_plot_functions\n",
    "importlib.reload(noise_functions)  # For local debugging\n",
    "importlib.reload(noise_plot_functions) # For local debugging\n",
    "\n",
    "\n",
    "# Init environment\n",
    "out_dir = 'derivatives'\n",
    "os.makedirs(out_dir, exist_ok=True)\n",
    "# pd.set_option('display.max_columns', None); pd.reset_option('display.max_columns') # Options for local debugging\n",
    "warnings.filterwarnings(\"ignore\", message=\"iteritems is deprecated\")"
   ]
  },
  {
   "cell_type": "markdown",
   "metadata": {},
   "source": [
    "# Read data"
   ]
  },
  {
   "cell_type": "code",
   "execution_count": null,
   "metadata": {},
   "outputs": [],
   "source": [
    "df = pd.read_csv(os.path.join('data/Noise Repeat Complainant coords-Ethan' + '.csv'))\n",
    "print('Loaded data as: df')\n",
    "noise_functions.describe_data(df)"
   ]
  },
  {
   "cell_type": "code",
   "execution_count": null,
   "metadata": {},
   "outputs": [],
   "source": [
    "# Preprocess datetime columns\n",
    "df = noise_functions.convert_raw_date_time(df)\n",
    "df = noise_functions.remove_missing_date_rows(df)\n",
    "df = noise_functions.create_joined_datetime(df)"
   ]
  },
  {
   "cell_type": "code",
   "execution_count": null,
   "metadata": {},
   "outputs": [],
   "source": [
    "# Sort by datetime\n",
    "df = df.sort_values('Received DateTime')"
   ]
  },
  {
   "cell_type": "markdown",
   "metadata": {},
   "source": [
    "## Subset - Building Site Complaints"
   ]
  },
  {
   "cell_type": "code",
   "execution_count": null,
   "metadata": {},
   "outputs": [],
   "source": [
    "# Filter to 'Building Site' complaints\n",
    "df = df[df['Complaint Type'].isin(['Building Site', 'Building site'])]\n",
    "print('Dropped non-building sites')\n",
    "noise_functions.describe_data(df)"
   ]
  },
  {
   "cell_type": "code",
   "execution_count": null,
   "metadata": {},
   "outputs": [],
   "source": [
    "# Subset for latest 2 months\n",
    "first_date = '2023-02-12'\n",
    "last_date = '2023-04-12'\n",
    "df = noise_functions.get_subset_via_dates(df, first_date, last_date)\n",
    "print(f'Got subset of complaints within these dates (inclusive):\\n{first_date} - {last_date}')\n",
    "noise_functions.describe_data(df)"
   ]
  },
  {
   "cell_type": "code",
   "execution_count": null,
   "metadata": {},
   "outputs": [],
   "source": [
    "df\n",
    "filename = os.path.join(out_dir,'Noise Repeat Complainant coords-Ethan_sorted' + '.csv')\n",
    "print(f'Writing sorted dataset to: {filename}')\n",
    "df.to_csv(filename, index=False)\n"
   ]
  },
  {
   "cell_type": "markdown",
   "metadata": {},
   "source": [
    "Where is ordnance hill (has two LSOAs?)\n",
    "\n"
   ]
  },
  {
   "cell_type": "code",
   "execution_count": null,
   "metadata": {},
   "outputs": [],
   "source": [
    "keys_list = ['E01004649','E01004647']\n",
    "fig = noise_plot_functions.plot_highlighted_lsoas(\n",
    "    keys_list)\n",
    "## they are adjacent so reckon address is close to boundary PS. improve alpha-boundaries for hightighted areas!\n",
    "keys_list = ['E01004649']\n",
    "fig = noise_plot_functions.plot_highlighted_lsoas(\n",
    "    keys_list)\n",
    "keys_list = ['E01004647']\n",
    "fig = noise_plot_functions.plot_highlighted_lsoas(\n",
    "    keys_list)\n"
   ]
  },
  {
   "cell_type": "markdown",
   "metadata": {},
   "source": [
    "Where is peabody (Two LSOAs)"
   ]
  },
  {
   "cell_type": "code",
   "execution_count": null,
   "metadata": {},
   "outputs": [],
   "source": [
    "keys_list = ['E01033599','E01004744']\n",
    "fig = noise_plot_functions.plot_highlighted_lsoas(\n",
    "    keys_list)\n",
    "## they are adjacent so reckon address is close to boundary PS. improve alpha-boundaries for hightighted areas!\n",
    "keys_list = ['E01033599']\n",
    "fig = noise_plot_functions.plot_highlighted_lsoas(\n",
    "    keys_list)\n",
    "keys_list = ['E01004744']\n",
    "fig = noise_plot_functions.plot_highlighted_lsoas(\n",
    "    keys_list)\n"
   ]
  },
  {
   "cell_type": "markdown",
   "metadata": {},
   "source": [
    "# EXTRA BELOW "
   ]
  },
  {
   "cell_type": "markdown",
   "metadata": {},
   "source": [
    "Let's display all unique values throughout these complaints to understand the gist."
   ]
  },
  {
   "cell_type": "code",
   "execution_count": null,
   "metadata": {},
   "outputs": [],
   "source": [
    "unique_values_dict = noise_functions.extra_print_unique_data(df)"
   ]
  },
  {
   "cell_type": "code",
   "execution_count": null,
   "metadata": {},
   "outputs": [],
   "source": [
    "unique_counts_dict_reference = noise_functions.count_unique_codes(df, 'Noise Complaint Index', out_dir)[0]  # Reference in Uniform"
   ]
  },
  {
   "cell_type": "markdown",
   "metadata": {},
   "source": [
    "## Write frequency (.json) based on complaint geographical location"
   ]
  },
  {
   "cell_type": "code",
   "execution_count": null,
   "metadata": {},
   "outputs": [],
   "source": [
    "unique_counts_dict_ward = noise_functions.count_unique_codes(df, 'WardCode', out_dir)[0]"
   ]
  },
  {
   "cell_type": "code",
   "execution_count": null,
   "metadata": {},
   "outputs": [],
   "source": [
    "unique_counts_dict_LSOA = noise_functions.count_unique_codes(df, 'LSOACode', out_dir)[0]"
   ]
  },
  {
   "cell_type": "code",
   "execution_count": null,
   "metadata": {},
   "outputs": [],
   "source": [
    "unique_counts_dict_MSOA = noise_functions.count_unique_codes(df, 'MSOACode', out_dir)[0]"
   ]
  },
  {
   "cell_type": "code",
   "execution_count": null,
   "metadata": {},
   "outputs": [],
   "source": [
    "unique_counts_dict_OutA = noise_functions.count_unique_codes(df, 'OutputArea', out_dir)[0]"
   ]
  },
  {
   "cell_type": "markdown",
   "metadata": {},
   "source": [
    "## Manually Identify Top 5 LSOA in GIS Web Application"
   ]
  },
  {
   "cell_type": "code",
   "execution_count": null,
   "metadata": {},
   "outputs": [],
   "source": [
    "print('All LSOAs\\n')\n",
    "print(unique_counts_dict_LSOA)\n",
    "\n",
    "print('\\nTop 5 LSOAs\\n')\n",
    "keys_list = []\n",
    "for key in list(unique_counts_dict_LSOA.keys())[:5]:\n",
    "    keys_list.append(key)\n",
    "print(keys_list)"
   ]
  },
  {
   "cell_type": "markdown",
   "metadata": {},
   "source": [
    "## Plot Top Concentration of Complaints (LSOA)"
   ]
  },
  {
   "cell_type": "code",
   "execution_count": null,
   "metadata": {},
   "outputs": [],
   "source": [
    "# Create initial Westminster LSOA base geojson if not yet written \n",
    "if not os.path.isfile('./data/LSOA_Dec_2021_EK-westminster.geojson'):\n",
    "    noise_plot_functions.init_write_geojson_westminster_lsoa_subset()  # Run once!"
   ]
  },
  {
   "cell_type": "code",
   "execution_count": null,
   "metadata": {},
   "outputs": [],
   "source": [
    "fig = noise_plot_functions.plot_heatmap_lsoas(\n",
    "    list(unique_counts_dict_LSOA.items()))\n",
    "fig.savefig(os.path.join(out_dir, 'geopd_heatmap_all' + '.png'))"
   ]
  },
  {
   "cell_type": "code",
   "execution_count": null,
   "metadata": {},
   "outputs": [],
   "source": [
    "fig = noise_plot_functions.plot_highlighted_lsoas(\n",
    "    keys_list)\n",
    "fig.savefig(os.path.join(out_dir, 'geopd_highlighted_top5' + '.png'))"
   ]
  },
  {
   "cell_type": "code",
   "execution_count": null,
   "metadata": {},
   "outputs": [],
   "source": [
    "fig = noise_plot_functions.plot_heatmap_lsoas(\n",
    "    list(unique_counts_dict_LSOA.items())[:5])\n",
    "fig.savefig(os.path.join(out_dir, 'geopd_heatmap_top5' + '.png'))"
   ]
  }
 ],
 "metadata": {
  "kernelspec": {
   "display_name": "Python 3",
   "language": "python",
   "name": "python3"
  },
  "language_info": {
   "codemirror_mode": {
    "name": "ipython",
    "version": 3
   },
   "file_extension": ".py",
   "mimetype": "text/x-python",
   "name": "python",
   "nbconvert_exporter": "python",
   "pygments_lexer": "ipython3",
   "version": "3.6.8"
  }
 },
 "nbformat": 4,
 "nbformat_minor": 2
}
