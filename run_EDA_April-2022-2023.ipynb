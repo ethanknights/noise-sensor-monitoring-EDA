{
 "cells": [
  {
   "cell_type": "markdown",
   "metadata": {},
   "source": [
    "# Purpose: Explore April 2022-2023 Complaints"
   ]
  },
  {
   "cell_type": "code",
   "execution_count": null,
   "metadata": {},
   "outputs": [],
   "source": [
    "# Imports\n",
    "import os\n",
    "import pandas as pd\n",
    "import warnings\n",
    "import importlib\n",
    "import noise_functions\n",
    "import noise_plot_functions\n",
    "import matplotlib.pyplot as plt\n",
    "import numpy as np\n",
    "importlib.reload(noise_functions)  # For local debugging\n",
    "importlib.reload(noise_plot_functions) # For local debugging\n",
    "\n",
    "\n",
    "# Init environment\n",
    "out_dir = 'derivatives'\n",
    "os.makedirs(out_dir, exist_ok=True)\n",
    "# pd.set_option('display.max_columns', None); pd.reset_option('display.max_columns') # Options for local debugging\n",
    "warnings.filterwarnings(\"ignore\", message=\"iteritems is deprecated\")"
   ]
  },
  {
   "cell_type": "markdown",
   "metadata": {},
   "source": [
    "# Read data"
   ]
  },
  {
   "cell_type": "code",
   "execution_count": null,
   "metadata": {},
   "outputs": [],
   "source": [
    "# Read\n",
    "# rawD = setup.read_data()  # keep persistent copy for reference during development\n",
    "df = noise_functions.read_data()"
   ]
  },
  {
   "cell_type": "code",
   "execution_count": null,
   "metadata": {},
   "outputs": [],
   "source": [
    "# Preprocess datetime columns\n",
    "df = noise_functions.convert_raw_date_time(df)\n",
    "df = noise_functions.remove_missing_date_rows(df)\n",
    "df = noise_functions.create_joined_datetime(df)"
   ]
  },
  {
   "cell_type": "code",
   "execution_count": null,
   "metadata": {},
   "outputs": [],
   "source": [
    "# Sort by datetime\n",
    "df = df.sort_values('Received DateTime')"
   ]
  },
  {
   "cell_type": "markdown",
   "metadata": {},
   "source": [
    "## Subset - 2022-2023 April"
   ]
  },
  {
   "cell_type": "code",
   "execution_count": null,
   "metadata": {},
   "outputs": [],
   "source": [
    "# Subset for latest 2 months\n",
    "first_date = '2022-04-12'\n",
    "last_date = '2023-04-12'\n",
    "df = noise_functions.get_subset_via_dates(df, first_date, last_date)\n",
    "print(f'Got subset of complaints within these dates (inclusive):\\n{first_date} - {last_date}')\n",
    "noise_functions.describe_data(df)"
   ]
  },
  {
   "cell_type": "markdown",
   "metadata": {},
   "source": [
    "## Display unique values"
   ]
  },
  {
   "cell_type": "markdown",
   "metadata": {},
   "source": [
    "Let's display all unique values throughout these complaints to understand the gist."
   ]
  },
  {
   "cell_type": "code",
   "execution_count": null,
   "metadata": {},
   "outputs": [],
   "source": [
    "unique_values_dict = noise_functions.extra_print_unique_data(df)"
   ]
  },
  {
   "cell_type": "code",
   "execution_count": null,
   "metadata": {},
   "outputs": [],
   "source": [
    "df"
   ]
  },
  {
   "cell_type": "code",
   "execution_count": null,
   "metadata": {},
   "outputs": [],
   "source": [
    "# Plot unique categories x nComplaints (Complaint Type)\n",
    "descript_str = 'Frequency_Complaint-Type'\n",
    "\n",
    "unique_counts_dict_complaint_type = noise_functions.count_unique_codes(df, 'Complaint Type', out_dir)[0]\n",
    "categories = list(unique_counts_dict_complaint_type.keys())\n",
    "values = list(unique_counts_dict_complaint_type.values())\n",
    "\n",
    "fig = noise_plot_functions.plot_nComplaint_barh(categories, values, descript_str)\n",
    "out_name = os.path.join(out_dir, descript_str + '.png')\n",
    "print(f\"writing {out_name}\")\n",
    "\n",
    "plt.savefig(out_name, bbox_inches='tight', dpi=300)"
   ]
  },
  {
   "cell_type": "code",
   "execution_count": null,
   "metadata": {},
   "outputs": [],
   "source": [
    "# Repeat this with Complaint-Sub-Type Plot unique categories x nComplaints (Complaint Sub- Type)\n",
    "descript_str = 'Frequency_Complaint-Sub-Type'\n",
    "\n",
    "unique_counts_dict_complaint_type = noise_functions.count_unique_codes(df, 'Complaint Sub Type', out_dir)[0]\n",
    "categories = list(unique_counts_dict_complaint_type.keys())\n",
    "values = list(unique_counts_dict_complaint_type.values())\n",
    "\n",
    "fig = noise_plot_functions.plot_nComplaint_barh(categories, values, descript_str)\n",
    "out_name = os.path.join(out_dir, descript_str + '.png')\n",
    "print(f\"writing {out_name}\")\n",
    "\n",
    "plt.savefig(out_name, bbox_inches='tight', dpi=300)\n"
   ]
  },
  {
   "cell_type": "code",
   "execution_count": null,
   "metadata": {},
   "outputs": [],
   "source": []
  }
 ],
 "metadata": {
  "kernelspec": {
   "display_name": "Python 3",
   "language": "python",
   "name": "python3"
  },
  "language_info": {
   "codemirror_mode": {
    "name": "ipython",
    "version": 3
   },
   "file_extension": ".py",
   "mimetype": "text/x-python",
   "name": "python",
   "nbconvert_exporter": "python",
   "pygments_lexer": "ipython3",
   "version": "3.6.8"
  }
 },
 "nbformat": 4,
 "nbformat_minor": 2
}
