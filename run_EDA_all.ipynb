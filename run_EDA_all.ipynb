{
 "cells": [
  {
   "cell_type": "markdown",
   "metadata": {},
   "source": [
    "# Purpose: Identify building site with high-frequency complaints "
   ]
  },
  {
   "cell_type": "code",
   "execution_count": null,
   "metadata": {},
   "outputs": [],
   "source": [
    "# Imports\n",
    "import os\n",
    "import pandas as pd\n",
    "import warnings\n",
    "import importlib\n",
    "import noise_functions\n",
    "import noise_plot_functions\n",
    "from matplotlib import pyplot as plt\n",
    "importlib.reload(noise_functions)  # For local debugging\n",
    "importlib.reload(noise_plot_functions) # For local debugging\n",
    "\n",
    "\n",
    "# Init environment\n",
    "out_dir = 'derivatives'\n",
    "os.makedirs(out_dir, exist_ok=True)\n",
    "# pd.set_option('display.max_columns', None); pd.reset_option('display.max_columns') # Options for local debugging\n",
    "warnings.filterwarnings(\"ignore\", message=\"iteritems is deprecated\")"
   ]
  },
  {
   "cell_type": "markdown",
   "metadata": {},
   "source": [
    "# Read data"
   ]
  },
  {
   "cell_type": "code",
   "execution_count": null,
   "metadata": {},
   "outputs": [],
   "source": [
    "df = pd.read_csv(os.path.join('data','raw-all-noise-complaints_range-1997-12-Apr-2023' + '.csv'))\n",
    "print('Loaded data as: df')\n",
    "noise_functions.describe_data(df)"
   ]
  },
  {
   "cell_type": "code",
   "execution_count": null,
   "metadata": {},
   "outputs": [],
   "source": [
    "# Preprocess datetime columns\n",
    "df = noise_functions.convert_raw_date_time(df)\n",
    "df = noise_functions.remove_missing_date_rows(df)\n",
    "df = noise_functions.create_joined_datetime(df)"
   ]
  },
  {
   "cell_type": "code",
   "execution_count": null,
   "metadata": {},
   "outputs": [],
   "source": [
    "# Sort by datetime\n",
    "df = df.sort_values('Received DateTime')\n",
    "print('sorted df')\n",
    "noise_functions.describe_data(df)"
   ]
  },
  {
   "cell_type": "code",
   "execution_count": null,
   "metadata": {},
   "outputs": [],
   "source": [
    "cutoffDate = '2000-01-01'\n",
    "\n",
    "print(f'dropping dates before{cutoffDate}')\n",
    "df = df[~(df['Received DateTime'] < cutoffDate)]\n",
    "noise_functions.describe_data(df)"
   ]
  },
  {
   "cell_type": "markdown",
   "metadata": {},
   "source": [
    "## All time - nComplaints"
   ]
  },
  {
   "cell_type": "code",
   "execution_count": null,
   "metadata": {},
   "outputs": [],
   "source": [
    "# nComplains (Daily)\n",
    "plt.figure(figsize=(10, 8))  # plt.style.use('bmh')\n",
    "fig = plt.gcf()\n",
    "fig.patch.set_facecolor('white')\n",
    "\n",
    "df.groupby('Received Date').count().plot(kind='line')\n",
    "plt.title('nComplaints (Daily Binned)', fontsize=18)"
   ]
  },
  {
   "cell_type": "code",
   "execution_count": null,
   "metadata": {},
   "outputs": [],
   "source": [
    "# nComplains (Monthly)\n",
    "plt.figure(figsize=(10, 8))  # plt.style.use('bmh')\n",
    "fig = plt.gcf()\n",
    "fig.patch.set_facecolor('white')\n",
    "\n",
    "df.groupby(df['Received DateTime'].dt.to_period('D'))['Complaint Type'].count().plot(kind='line')\n",
    "\n",
    "plt.title('nComplaints (Monthly Binned)', fontsize=18)\n",
    "plt.xlabel(\"Received Date\", fontsize=14)\n",
    "plt.ylabel('nComplaints', fontsize=14)\n",
    "plt.tick_params(axis='both', labelsize=12, length=0)\n",
    "plt.grid(False)\n"
   ]
  },
  {
   "cell_type": "code",
   "execution_count": null,
   "metadata": {},
   "outputs": [],
   "source": [
    "# nComplains (Yearly)\n",
    "plt.figure(figsize=(10, 8))  # plt.style.use('bmh')\n",
    "fig = plt.gcf()\n",
    "fig.patch.set_facecolor('white')\n",
    "\n",
    "df.groupby(df['Received DateTime'].dt.to_period('Y'))['Complaint Type'].count().plot(kind='line')\n",
    "\n",
    "plt.title('nComplaints (Monthly Binned)', fontsize=18)\n",
    "plt.xlabel(\"Received Date\", fontsize=14)\n",
    "plt.ylabel('nComplaints', fontsize=14)\n",
    "plt.tick_params(axis='both', labelsize=12, length=0)\n",
    "plt.grid(False)"
   ]
  },
  {
   "cell_type": "code",
   "execution_count": null,
   "metadata": {},
   "outputs": [],
   "source": []
  }
 ],
 "metadata": {
  "kernelspec": {
   "display_name": "Python 3",
   "language": "python",
   "name": "python3"
  },
  "language_info": {
   "codemirror_mode": {
    "name": "ipython",
    "version": 3
   },
   "file_extension": ".py",
   "mimetype": "text/x-python",
   "name": "python",
   "nbconvert_exporter": "python",
   "pygments_lexer": "ipython3",
   "version": "3.6.8"
  }
 },
 "nbformat": 4,
 "nbformat_minor": 2
}
