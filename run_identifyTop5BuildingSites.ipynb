{
 "cells": [
  {
   "cell_type": "markdown",
   "metadata": {},
   "source": [
    "# Purpose: Identify building site with high-frequency complaints "
   ]
  },
  {
   "cell_type": "code",
   "execution_count": null,
   "metadata": {},
   "outputs": [],
   "source": [
    "# Imports\n",
    "import os\n",
    "import pandas as pd\n",
    "import warnings\n",
    "import importlib\n",
    "import noise_functions\n",
    "importlib.reload(noise_functions)  # For local debugging\n",
    "\n",
    "# Init environment\n",
    "out_dir = 'derivatives'\n",
    "os.makedirs(out_dir, exist_ok=True)\n",
    "# pd.set_option('display.max_columns', None); pd.reset_option('display.max_columns') # Options for local debugging\n",
    "warnings.filterwarnings(\"ignore\", message=\"iteritems is deprecated\")"
   ]
  },
  {
   "cell_type": "markdown",
   "metadata": {},
   "source": [
    "# Read data"
   ]
  },
  {
   "cell_type": "code",
   "execution_count": null,
   "metadata": {},
   "outputs": [],
   "source": [
    "# Read\n",
    "# rawD = setup.read_data()  # keep persistent copy for reference during development\n",
    "df = noise_functions.read_data()"
   ]
  },
  {
   "cell_type": "code",
   "execution_count": null,
   "metadata": {},
   "outputs": [],
   "source": [
    "# Preprocess datetime columns\n",
    "df = noise_functions.convert_raw_date_time(df)\n",
    "df = noise_functions.remove_missing_date_rows(df)\n",
    "df = noise_functions.create_joined_datetime(df)"
   ]
  },
  {
   "cell_type": "code",
   "execution_count": null,
   "metadata": {},
   "outputs": [],
   "source": [
    "# Sort by datetime\n",
    "df = df.sort_values('Received DateTime')"
   ]
  },
  {
   "cell_type": "markdown",
   "metadata": {},
   "source": [
    "## Subset - Building Site Complaints"
   ]
  },
  {
   "cell_type": "code",
   "execution_count": null,
   "metadata": {},
   "outputs": [],
   "source": [
    "# Filter to 'Building Site' complaints\n",
    "df = df[df['Complaint Type'].isin(['Building Site', 'Building site'])]\n",
    "print('Dropped non-building sites')\n",
    "noise_functions.describe_data(df)"
   ]
  },
  {
   "cell_type": "code",
   "execution_count": null,
   "metadata": {},
   "outputs": [],
   "source": [
    "# Subset for latest 2 months\n",
    "first_date = '2023-02-12'\n",
    "last_date = '2023-04-12'\n",
    "df = noise_functions.get_subset_via_dates(df, first_date, last_date)\n",
    "print(f'Got subset of complaints within these dates (inclusive):\\n{first_date} - {last_date}')\n",
    "noise_functions.describe_data(df)"
   ]
  },
  {
   "cell_type": "markdown",
   "metadata": {},
   "source": [
    "## Display unique values"
   ]
  },
  {
   "cell_type": "markdown",
   "metadata": {},
   "source": [
    "Let's display all unique values throughout these complaints to understand the gist."
   ]
  },
  {
   "cell_type": "code",
   "execution_count": null,
   "metadata": {},
   "outputs": [],
   "source": [
    "unique_values_dict = noise_functions.extra_print_unique_data(df)"
   ]
  },
  {
   "cell_type": "code",
   "execution_count": null,
   "metadata": {},
   "outputs": [],
   "source": [
    "unique_counts_dict_reference = noise_functions.count_unique_codes(df, 'Noise Complaint Index', out_dir)[0]  # Reference in Uniform"
   ]
  },
  {
   "cell_type": "markdown",
   "metadata": {},
   "source": [
    "## Write frequency (.json) based on complaint geographical location"
   ]
  },
  {
   "cell_type": "code",
   "execution_count": null,
   "metadata": {},
   "outputs": [],
   "source": [
    "unique_counts_dict_ward = noise_functions.count_unique_codes(df, 'WardCode', out_dir)[0]"
   ]
  },
  {
   "cell_type": "code",
   "execution_count": null,
   "metadata": {},
   "outputs": [],
   "source": [
    "unique_counts_dict_LSOA = noise_functions.count_unique_codes(df, 'LSOACode', out_dir)[0]"
   ]
  },
  {
   "cell_type": "code",
   "execution_count": null,
   "metadata": {},
   "outputs": [],
   "source": [
    "unique_counts_dict_MSOA = noise_functions.count_unique_codes(df, 'MSOACode', out_dir)[0]"
   ]
  },
  {
   "cell_type": "code",
   "execution_count": null,
   "metadata": {},
   "outputs": [],
   "source": [
    "unique_counts_dict_OutA = noise_functions.count_unique_codes(df, 'OutputArea', out_dir)[0]"
   ]
  },
  {
   "cell_type": "markdown",
   "metadata": {},
   "source": [
    "## Manually Identify Top 5 LSOA in GIS Web Application"
   ]
  },
  {
   "cell_type": "code",
   "execution_count": null,
   "metadata": {},
   "outputs": [],
   "source": [
    "print('All LSOAs\\n')\n",
    "print(unique_counts_dict_LSOA)\n",
    "\n",
    "print('\\nTop 5 LSOAs\\n')\n",
    "for key in list(unique_counts_dict_LSOA.keys())[:5]:\n",
    "    print(key, unique_counts_dict_LSOA[key])"
   ]
  }
 ],
 "metadata": {
  "kernelspec": {
   "display_name": "Python 3",
   "language": "python",
   "name": "python3"
  },
  "language_info": {
   "codemirror_mode": {
    "name": "ipython",
    "version": 3
   },
   "file_extension": ".py",
   "mimetype": "text/x-python",
   "name": "python",
   "nbconvert_exporter": "python",
   "pygments_lexer": "ipython3",
   "version": "3.6.8"
  }
 },
 "nbformat": 4,
 "nbformat_minor": 2
}
